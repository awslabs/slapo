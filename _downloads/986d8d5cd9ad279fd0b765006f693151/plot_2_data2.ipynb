{
  "cells": [
    {
      "cell_type": "code",
      "execution_count": null,
      "metadata": {
        "collapsed": false
      },
      "outputs": [],
      "source": [
        "%matplotlib inline"
      ]
    },
    {
      "cell_type": "markdown",
      "metadata": {},
      "source": [
        "\n# Data download example 2\n\nWe can use the same ``iris`` dataset in this example, without downloading it\ntwice as we know ``data_download`` will check if the data has already been\ndownloaded.\n"
      ]
    },
    {
      "cell_type": "code",
      "execution_count": null,
      "metadata": {
        "collapsed": false
      },
      "outputs": [],
      "source": [
        "import pandas as pd\nimport SampleModule.data_download as dd\n\ndata_file = dd.download_data(\n    url='http://archive.ics.uci.edu/ml/machine-learning-databases/iris/iris.data',\\\n    data_file_name='iris.csv',\n    data_key='data_dir')\n\niris = pd.read_csv(data_file, header=None)\niris.head()"
      ]
    }
  ],
  "metadata": {
    "kernelspec": {
      "display_name": "Python 3",
      "language": "python",
      "name": "python3"
    },
    "language_info": {
      "codemirror_mode": {
        "name": "ipython",
        "version": 3
      },
      "file_extension": ".py",
      "mimetype": "text/x-python",
      "name": "python",
      "nbconvert_exporter": "python",
      "pygments_lexer": "ipython3",
      "version": "3.8.2"
    }
  },
  "nbformat": 4,
  "nbformat_minor": 0
}